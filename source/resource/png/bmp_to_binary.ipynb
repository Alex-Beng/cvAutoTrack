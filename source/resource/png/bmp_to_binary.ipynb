{
 "cells": [
  {
   "cell_type": "code",
   "execution_count": 4,
   "metadata": {},
   "outputs": [],
   "source": [
    "# bmp to cpp const char array"
   ]
  },
  {
   "cell_type": "code",
   "execution_count": 5,
   "metadata": {},
   "outputs": [],
   "source": [
    "import numpy as np"
   ]
  },
  {
   "cell_type": "code",
   "execution_count": 6,
   "metadata": {},
   "outputs": [
    {
     "name": "stdout",
     "output_type": "stream",
     "text": [
      "bmp width:  15\n",
      "bmp height:  18\n",
      "bmp data size:  270\n"
     ]
    }
   ],
   "source": [
    "# read bmp file\n",
    "bmp = np.fromfile('UID0.bmp', dtype=np.uint8)\n",
    "\n",
    "# get bmp header\n",
    "bmp_header = bmp[:54]\n",
    "\n",
    "# get bmp data\n",
    "bmp_data = bmp[54:]\n",
    "\n",
    "# get bmp width and height\n",
    "bmp_width = bmp_header[18] + bmp_header[19] * 256\n",
    "bmp_height = bmp_header[22] + bmp_header[23] * 256\n",
    "\n",
    "# get bmp data size\n",
    "bmp_data_size = bmp_width * bmp_height\n",
    "print('bmp width: ', bmp_width)\n",
    "print('bmp height: ', bmp_height)\n",
    "print('bmp data size: ', bmp_data_size)\n"
   ]
  },
  {
   "cell_type": "code",
   "execution_count": 9,
   "metadata": {},
   "outputs": [
    {
     "name": "stdout",
     "output_type": "stream",
     "text": [
      "270\n"
     ]
    }
   ],
   "source": [
    "# convert bmp data to cpp const char array\n",
    "cpp_data = 'const char binary_uid0_data[] = {'\n",
    "for i in range(bmp_data_size):\n",
    "    if i % 8 == 0:\n",
    "        cpp_data += '\\n'\n",
    "    cpp_data += '0x{:02x}, '.format(bmp_data[i])\n",
    "cpp_data += '}'\n",
    "\n",
    "# write cpp data to file\n",
    "with open('binary_uid0_data.cpp', 'w') as f:\n",
    "    f.write(cpp_data)\n",
    "\n",
    "# print cpp data\n",
    "print(bmp_data_size)"
   ]
  },
  {
   "cell_type": "markdown",
   "metadata": {},
   "source": []
  },
  {
   "cell_type": "code",
   "execution_count": 17,
   "metadata": {},
   "outputs": [],
   "source": [
    "file = open('UID0.bmp', 'r',encoding='ascii',errors='ignore')\n",
    "data = file.read()\n",
    "file.close()\n",
    "\n",
    "h_file = open('UID0.h', 'w')\n",
    "h_file.write('const char binary_uid0_data[] = {')\n",
    "for i in range(len(data)):\n",
    "    if i % 8 == 0:\n",
    "        h_file.write('\\n')\n",
    "    h_file.write('0x{:02x}, '.format(ord(data[i])))\n",
    "h_file.write('}')\n",
    "h_file.close()\n"
   ]
  },
  {
   "cell_type": "code",
   "execution_count": 18,
   "metadata": {},
   "outputs": [],
   "source": [
    "def to(id:str):\n",
    "    file = open('UID'+id+'.bmp', 'r',encoding='ascii',errors='ignore')\n",
    "    data = file.read()\n",
    "    file.close()\n",
    "\n",
    "    h_file = open('UID'+id+'.h', 'w')\n",
    "    h_file.write('const char binary_uid'+id+'_data[] = {')\n",
    "    for i in range(len(data)):\n",
    "        if i % 8 == 0:\n",
    "            h_file.write('\\n')\n",
    "        h_file.write('0x{:02x}, '.format(ord(data[i])))\n",
    "    h_file.write('}')\n",
    "    h_file.close()"
   ]
  },
  {
   "cell_type": "code",
   "execution_count": 19,
   "metadata": {},
   "outputs": [],
   "source": [
    "ids = ['_','0','1','2','3','4','5','6','7','8','9']"
   ]
  },
  {
   "cell_type": "code",
   "execution_count": 20,
   "metadata": {},
   "outputs": [],
   "source": [
    "for id in ids:\n",
    "    to(id)"
   ]
  },
  {
   "cell_type": "code",
   "execution_count": null,
   "metadata": {},
   "outputs": [],
   "source": []
  }
 ],
 "metadata": {
  "kernelspec": {
   "display_name": "base",
   "language": "python",
   "name": "python3"
  },
  "language_info": {
   "codemirror_mode": {
    "name": "ipython",
    "version": 3
   },
   "file_extension": ".py",
   "mimetype": "text/x-python",
   "name": "python",
   "nbconvert_exporter": "python",
   "pygments_lexer": "ipython3",
   "version": "3.9.13"
  },
  "orig_nbformat": 4,
  "vscode": {
   "interpreter": {
    "hash": "ad2bdc8ecc057115af97d19610ffacc2b4e99fae6737bb82f5d7fb13d2f2c186"
   }
  }
 },
 "nbformat": 4,
 "nbformat_minor": 2
}
